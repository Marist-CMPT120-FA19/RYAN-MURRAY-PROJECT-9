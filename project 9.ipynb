{
 "cells": [
  {
   "cell_type": "code",
   "execution_count": null,
   "metadata": {},
   "outputs": [],
   "source": [
    "def main():\n",
    "    n = int(input(\"Enter a number n to find all the primes less than or equal to n: \"))\n",
    "    numbers = []\n",
    "    for i in range(2 , n+1):\n",
    "        numbers.append(i)\n",
    "        \n",
    "    while len(numbers) > 0:\n",
    "        prime = numbers.pop(0)\n",
    "        print(prime , \"is prime.\")\n",
    "        \n",
    "        for x in numbers:\n",
    "            if x % prime == 0:\n",
    "                numbers.remove(x)\n",
    "        \n",
    "main()"
   ]
  },
  {
   "cell_type": "code",
   "execution_count": null,
   "metadata": {},
   "outputs": [],
   "source": []
  }
 ],
 "metadata": {
  "kernelspec": {
   "display_name": "Python 3",
   "language": "python",
   "name": "python3"
  },
  "language_info": {
   "codemirror_mode": {
    "name": "ipython",
    "version": 3
   },
   "file_extension": ".py",
   "mimetype": "text/x-python",
   "name": "python",
   "nbconvert_exporter": "python",
   "pygments_lexer": "ipython3",
   "version": "3.7.3"
  }
 },
 "nbformat": 4,
 "nbformat_minor": 2
}
